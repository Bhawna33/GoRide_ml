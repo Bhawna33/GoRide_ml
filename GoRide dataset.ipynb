{
 "cells": [
  {
   "cell_type": "code",
   "execution_count": 1,
   "id": "a4ee8533",
   "metadata": {},
   "outputs": [
    {
     "name": "stdout",
     "output_type": "stream",
     "text": [
      "Requirement already satisfied: faker in d:\\anaconda\\lib\\site-packages (25.3.0)\n",
      "Requirement already satisfied: python-dateutil>=2.4 in d:\\anaconda\\lib\\site-packages (from faker) (2.8.2)\n",
      "Requirement already satisfied: six>=1.5 in d:\\anaconda\\lib\\site-packages (from python-dateutil>=2.4->faker) (1.16.0)\n",
      "Note: you may need to restart the kernel to use updated packages.\n"
     ]
    }
   ],
   "source": [
    "pip install faker"
   ]
  },
  {
   "cell_type": "code",
   "execution_count": 2,
   "id": "dd2a7b2c",
   "metadata": {},
   "outputs": [],
   "source": [
    "import pandas as pd\n",
    "import numpy as np\n",
    "from faker import Faker\n",
    "from datetime import datetime, timedelta\n",
    "\n",
    "fake = Faker()\n"
   ]
  },
  {
   "cell_type": "code",
   "execution_count": 3,
   "id": "a1dd87d8",
   "metadata": {},
   "outputs": [],
   "source": [
    "# Accurate list of public holidays in Karnataka for 2024\n",
    "public_holidays = [\n",
    "    datetime(2024, 1, 26),  # Republic Day\n",
    "    datetime(2024, 4, 14),  # Dr. B.R. Ambedkar Jayanti\n",
    "    datetime(2024, 8, 15),  # Independence Day\n",
    "    datetime(2024, 10, 2),  # Gandhi Jayanti\n",
    "    datetime(2024, 10, 26),  # Karnataka Rajyotsava\n",
    "    datetime(2024, 12, 25),  # Christmas\n",
    "]"
   ]
  },
  {
   "cell_type": "code",
   "execution_count": 4,
   "id": "c9c25a5d",
   "metadata": {},
   "outputs": [],
   "source": [
    "# Major events in Bengaluru\n",
    "major_events = [\n",
    "    datetime(2024, 1, 26),  # Republic Day Parade\n",
    "    datetime(2024, 8, 15),  # Independence Day Celebrations\n",
    "    datetime(2024, 10, 26),  # Karnataka Rajyotsava Parade\n",
    "]"
   ]
  },
  {
   "cell_type": "code",
   "execution_count": 5,
   "id": "2e409b6d",
   "metadata": {},
   "outputs": [],
   "source": [
    "# List of areas in Bengaluru\n",
    "bengaluru_areas = [\n",
    "    'Koramangala', 'Indiranagar', 'Whitefield', 'Electronic City', 'Jayanagar', 'Malleshwaram',\n",
    "    'HSR Layout', 'Basavanagudi', 'BTM Layout', 'Marathahalli', 'Banashankari', 'JP Nagar',\n",
    "    'Bellandur', 'Hebbal', 'Yelahanka', 'Rajajinagar', 'Kengeri', 'Vijayanagar', 'Ulsoor', 'Shivajinagar'\n",
    "]"
   ]
  },
  {
   "cell_type": "code",
   "execution_count": 42,
   "id": "0c647a77",
   "metadata": {},
   "outputs": [],
   "source": [
    "# Function to generate synthetic data with Bengaluru-specific weather conditions\n",
    "def generate_synthetic_data(n=1000):\n",
    "    data = []  # Initialize the data list\n",
    "    cab_id = 1001  # Starting cab ID\n",
    "    for _ in range(n):\n",
    "        timestamp = fake.date_time_this_year()\n",
    "        hour = timestamp.hour\n",
    "        day_of_week = timestamp.weekday()\n",
    "        day_of_month = timestamp.day\n",
    "        month = timestamp.month\n",
    "        \n",
    "        # Determine if the day is a weekend\n",
    "        is_weekend = 1 if day_of_week >= 5 else 0\n",
    "        \n",
    "        # Determine if the day is a holiday, including weekends\n",
    "        is_holiday = 1 if is_weekend else (1 if timestamp.date() in public_holidays else 0)\n",
    "        \n",
    "        # Simulate demand-supply dynamics\n",
    "        demand_factor = np.random.uniform(0.8, 1.2)  # Random demand factor\n",
    "        \n",
    "        # Calculate dynamic pricing multiplier based on demand factor and time of day\n",
    "        if hour in [8, 9, 17, 18]:  # Peak hours\n",
    "            dynamic_multiplier = np.random.uniform(1.2, 2.5) * demand_factor\n",
    "        else:  # Off-peak hours\n",
    "            dynamic_multiplier = np.random.uniform(1, 1.5) * demand_factor\n",
    "        \n",
    "        # Generate base fare based on distance and time\n",
    "        distance = round(np.random.uniform(3, 20), 2)  # Average cab ride distance in Bengaluru\n",
    "        duration = distance / round(np.random.uniform(0.5, 1.5), 2)  # Simple speed model\n",
    "        base_fare = distance * 1.5  # Base fare per km\n",
    "        \n",
    "        # Apply dynamic pricing multiplier to calculate final fare\n",
    "        final_fare = base_fare * dynamic_multiplier\n",
    "        \n",
    "        # Generate booking and dropoff locations from the list of Bengaluru areas\n",
    "        booking_location = np.random.choice(bengaluru_areas)\n",
    "        dropoff_location = np.random.choice(bengaluru_areas)\n",
    "        \n",
    "        # Ensure the dropoff location is not the same as the booking location\n",
    "        while dropoff_location == booking_location:\n",
    "            dropoff_location = np.random.choice(bengaluru_areas)\n",
    "        \n",
    "        # Simulate weather conditions and their impact on traffic congestion\n",
    "        weather_condition = np.random.choice(['Clear', 'Partly Cloudy', 'Cloudy', 'Rain', 'Thunderstorms'])\n",
    "        if weather_condition == 'Clear':\n",
    "            temperature = round(np.random.uniform(25, 35), 1)  # Clear weather temperatures\n",
    "            traffic_congestion_level = np.random.randint(1, 3)  # Low to moderate traffic\n",
    "        elif weather_condition == 'Partly Cloudy':\n",
    "            temperature = round(np.random.uniform(22, 30), 1)  # Partly cloudy temperatures\n",
    "            traffic_congestion_level = np.random.randint(1, 4)  # Low to moderate traffic\n",
    "        elif weather_condition == 'Cloudy':\n",
    "            temperature = round(np.random.uniform(20, 28), 1)  # Cloudy temperatures\n",
    "            traffic_congestion_level = np.random.randint(2, 4)  # Moderate to high traffic\n",
    "        elif weather_condition == 'Rain':\n",
    "            temperature = round(np.random.uniform(18, 25), 1)  # Rainy temperatures\n",
    "            traffic_congestion_level = np.random.randint(3, 5)  # High traffic\n",
    "        else:\n",
    "            temperature = round(np.random.uniform(15, 20), 1)  # Thunderstorms temperatures\n",
    "            traffic_congestion_level = np.random.randint(3, 5)  # High traffic\n",
    "        \n",
    "        precipitation = round(np.random.uniform(0, 20), 1)  # Precipitation in mm\n",
    "        \n",
    "        # Simulate events and major events\n",
    "        event = 1 if np.random.uniform() < 0.1 else 0  # Random events\n",
    "        event = event or (1 if timestamp.date() in major_events else 0)  # Major events\n",
    "        \n",
    "        # Simulate driver availability, number of bookings, and cancellations\n",
    "        num_drivers_available = np.random.randint(1, 21)  # Number of drivers available\n",
    "        num_bookings = np.random.randint(1, 25)  # Random number of bookings per hour of that location\n",
    "        num_cancellations = np.random.randint(0, num_bookings + 1)  # Cancellations up to bookings\n",
    "        \n",
    "        \n",
    "        # Combine factors to determine the target (artificial price surge)\n",
    "        target = 1 if (\n",
    "            dynamic_multiplier > 2 and\n",
    "            (temperature > 30 or\n",
    "            precipitation > 10 ) or\n",
    "            traffic_congestion_level == 4 or\n",
    "            event == 1 or\n",
    "            (num_cancellations > 4 and\n",
    "            num_bookings > 15 and\n",
    "            num_drivers_available < 3)\n",
    "        ) else 0\n",
    "        \n",
    "        # Add data to the list\n",
    "        data.append([\n",
    "            cab_id, timestamp, hour, day_of_week, day_of_month, month, is_weekend,\n",
    "            is_holiday, dynamic_multiplier, base_fare, final_fare, booking_location,\n",
    "            dropoff_location, temperature,precipitation, traffic_congestion_level,\n",
    "            event, num_cancellations, num_bookings,num_drivers_available, target\n",
    "        ])\n",
    "        \n",
    "        cab_id += 1  # Increment cab ID for the next entry\n",
    "    \n",
    "    # Create a DataFrame from the data list\n",
    "    df = pd.DataFrame(data, columns=[\n",
    "        'Cab ID', 'Timestamp', 'Hour', 'Day of Week', 'Day of Month', 'Month', 'Is Weekend',\n",
    "        'Is Holiday', 'Dynamic Multiplier', 'Base Fare', 'Final Fare', 'Booking Location',\n",
    "        'Dropoff Location', 'Temperature (°C)', 'Precipitation (mm)', 'Traffic Congestion Level',\n",
    "        'Event', 'Number of Cancellations', 'Number of Bookings', 'num_drivers_available','Target'\n",
    "    ])\n",
    "    \n",
    "    return df"
   ]
  },
  {
   "cell_type": "code",
   "execution_count": 43,
   "id": "b2ddef64",
   "metadata": {
    "scrolled": true
   },
   "outputs": [],
   "source": [
    "# Generate synthetic data\n",
    "synthetic_data = generate_synthetic_data()"
   ]
  },
  {
   "cell_type": "code",
   "execution_count": 44,
   "id": "d18a56d4",
   "metadata": {},
   "outputs": [
    {
     "name": "stdout",
     "output_type": "stream",
     "text": [
      "Dataset exported to synthetic_cab_data.csv\n"
     ]
    }
   ],
   "source": [
    "synthetic_data.to_csv('synthetic_cab_data.csv', index=False)\n",
    "\n",
    "print(\"Dataset exported to synthetic_cab_data.csv\")"
   ]
  },
  {
   "cell_type": "code",
   "execution_count": null,
   "id": "94c5e1d9",
   "metadata": {},
   "outputs": [],
   "source": []
  },
  {
   "cell_type": "code",
   "execution_count": null,
   "id": "ca7c3f42",
   "metadata": {},
   "outputs": [],
   "source": []
  }
 ],
 "metadata": {
  "kernelspec": {
   "display_name": "Python 3 (ipykernel)",
   "language": "python",
   "name": "python3"
  },
  "language_info": {
   "codemirror_mode": {
    "name": "ipython",
    "version": 3
   },
   "file_extension": ".py",
   "mimetype": "text/x-python",
   "name": "python",
   "nbconvert_exporter": "python",
   "pygments_lexer": "ipython3",
   "version": "3.11.7"
  }
 },
 "nbformat": 4,
 "nbformat_minor": 5
}
